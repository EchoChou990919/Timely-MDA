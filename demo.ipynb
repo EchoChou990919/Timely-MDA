{
 "cells": [
  {
   "cell_type": "markdown",
   "metadata": {},
   "source": [
    "# Demo\n",
    "    - The training and predict process about PLM-HGNN"
   ]
  },
  {
   "cell_type": "markdown",
   "metadata": {},
   "source": [
    "## ENVIRONMENT"
   ]
  },
  {
   "cell_type": "code",
   "execution_count": 17,
   "metadata": {},
   "outputs": [],
   "source": [
    "from utils import *\n",
    "from model import *"
   ]
  },
  {
   "cell_type": "markdown",
   "metadata": {},
   "source": [
    "## Path\n",
    "    - The data store path"
   ]
  },
  {
   "cell_type": "code",
   "execution_count": 1,
   "metadata": {},
   "outputs": [],
   "source": [
    "paths = {\n",
    "    'mirna_df': 'data/our_data/nodes/mirnas.tsv',\n",
    "    'disease_df': 'data/our_data/nodes/diseases.tsv',\n",
    "    'pcg_df': 'data/our_data/nodes/pcgs.tsv',\n",
    "\n",
    "    'model_save_folder': 'model_weights/',\n",
    "\n",
    "    'train_val_test': 'data/our_data/split/train_val_test_timely.npy',\n",
    "    'known_unknown_subset': 'data/our_data/process/known_unknown_samples.npy',\n",
    "    \n",
    "    'load_model_path': '',\n",
    "\n",
    "    'graph_without_mda': 'data/our_data/data_without_mda.pt'\n",
    "}"
   ]
  },
  {
   "cell_type": "markdown",
   "metadata": {},
   "source": [
    "## Settings\n",
    "    - the model parameters in training and predict process"
   ]
  },
  {
   "cell_type": "code",
   "execution_count": 18,
   "metadata": {},
   "outputs": [],
   "source": [
    "settings ={\n",
    "    'device': 'cuda:0',\n",
    "\n",
    "    # data set\n",
    "    'which_graph': 'graph_without_mda',\n",
    "    'feature_ablation_type': 3,\n",
    "\n",
    "    # hyper-parameters\n",
    "    'num_neighbors': [-1] * 4,\n",
    "    'dim': 128,\n",
    "    'num_heads': 8,\n",
    "    'num_layers': 3,\n",
    "    'group_type': 'sum',\n",
    "\n",
    "    # training set\n",
    "    'batch_size': 1024,\n",
    "    'epoch_num': 30,\n",
    "    'lr': 0.001,\n",
    "    'seeds': [777, 826, 303, 466, 343],\n",
    "    'early_stop_type': 'self_fitting',\n",
    "    'patience': 1,\n",
    "    'train_modes': ['train', 'val'],\n",
    "    'evaluate_modes': ['test']\n",
    "}"
   ]
  },
  {
   "cell_type": "code",
   "execution_count": null,
   "metadata": {},
   "outputs": [],
   "source": [
    "device = torch.device(settings['device'] if torch.cuda.is_available() else 'cpu')"
   ]
  },
  {
   "cell_type": "markdown",
   "metadata": {},
   "source": [
    "## Obtain the Benchmark\n",
    "    - if you want to train a model, the part can skip."
   ]
  },
  {
   "cell_type": "code",
   "execution_count": null,
   "metadata": {},
   "outputs": [],
   "source": [
    "posi_edge_index, nega_edge_index = get_edge_index(paths=paths, settings=settings, modes=settings['train_modes'])\n",
    "data = get_data(paths['graph_without_mda'], posi_edge_index)"
   ]
  },
  {
   "cell_type": "markdown",
   "metadata": {},
   "source": [
    "## Training Process"
   ]
  },
  {
   "cell_type": "code",
   "execution_count": null,
   "metadata": {},
   "outputs": [],
   "source": [
    "for seed in settings['seeds']:\n",
    "    set_seed(seed=seed)\n",
    "\n",
    "    criterion = nn.BCELoss()\n",
    "    model = Model(dim=settings['dim'], num_heads=settings['num_heads'], num_layers=settings['num_layers'],\n",
    "                group_type=settings['group_type'], feature_ablation_type=settings['feature_ablation_type']).to(device)\n",
    "    optimizer = torch.optim.Adam(model.parameters(), lr=settings['lr'])\n",
    "\n",
    "    data, best_weights = get_data_and_train(paths, settings, optimizer, device, model, criterion)\n",
    "    model.load_state_dict(best_weights)\n",
    "\n",
    "    paths['model_save_path'] = paths['model_save_folder'] + 'plm-hgnn_' + str(seed) + '.pth'\n",
    "    torch.save({\n",
    "        'settings': settings,\n",
    "        'best_weights': best_weights\n",
    "        }, paths['model_save_path'])"
   ]
  },
  {
   "cell_type": "markdown",
   "metadata": {},
   "source": [
    "## Evaluation\n",
    "    - if you don't run the part 'Training Process', please run part 'Obtain the Benchmark' and 'Load Model'"
   ]
  },
  {
   "cell_type": "markdown",
   "metadata": {},
   "source": [
    "### Load Model"
   ]
  },
  {
   "cell_type": "code",
   "execution_count": null,
   "metadata": {},
   "outputs": [],
   "source": [
    "paths['load_model_path'] = 'model_weights/plm-hgnn_303.pth'\n",
    "\n",
    "model = Model(dim=settings['dim'], num_heads=settings['num_heads'], num_layers=settings['num_layers'],\n",
    "            group_type=settings['group_type'], feature_ablation_type=settings['feature_ablation_type']).to(device)\n",
    "model.load_state_dict(torch.load(paths['load_model_path'])['best_weights'])"
   ]
  },
  {
   "cell_type": "markdown",
   "metadata": {},
   "source": [
    "### The metrics of the full test set"
   ]
  },
  {
   "cell_type": "code",
   "execution_count": null,
   "metadata": {},
   "outputs": [],
   "source": [
    "pred, label = evaluate(data, paths, settings, device, model)\n",
    "print(\"The metric of all scope: AUC | AUPR | ACC | P | R | F1\")\n",
    "AUC, AUPR, ACC, P, R, F1 = get_metrics(label, pred, 0.5)\n",
    "print(AUC, AUPR, ACC, P, R, F1)"
   ]
  },
  {
   "cell_type": "markdown",
   "metadata": {},
   "source": [
    "### The metrics of known and unknown subset"
   ]
  },
  {
   "cell_type": "code",
   "execution_count": null,
   "metadata": {},
   "outputs": [],
   "source": [
    "known_unknown_subset = np.load(paths['known_unknown_subset'], allow_pickle=True).item()\n",
    "\n",
    "known_pred = pred[known_unknown_subset['known']]\n",
    "known_label = label[known_unknown_subset['known']]\n",
    "unknown_pred = pred[known_unknown_subset['unknown']]\n",
    "unknown_label = label[known_unknown_subset['unknown']]\n",
    "\n",
    "AUC_known, AUPR_known, _, _, _, _ = get_metrics(known_label, known_pred, 0.5)\n",
    "print('The metrics of known:', round(AUC_known, 3), round(AUPR_known, 3))\n",
    "\n",
    "AUC_unknown, AUPR_unknown, _, _, _, _ = get_metrics(unknown_label, unknown_pred, 0.5)\n",
    "print('The metrics of unknown:' , round(AUC_unknown, 3), round(AUPR_unknown, 3))"
   ]
  }
 ],
 "metadata": {
  "kernelspec": {
   "display_name": "pytorch38",
   "language": "python",
   "name": "python3"
  },
  "language_info": {
   "codemirror_mode": {
    "name": "ipython",
    "version": 3
   },
   "file_extension": ".py",
   "mimetype": "text/x-python",
   "name": "python",
   "nbconvert_exporter": "python",
   "pygments_lexer": "ipython3",
   "version": "3.9.12"
  }
 },
 "nbformat": 4,
 "nbformat_minor": 2
}
